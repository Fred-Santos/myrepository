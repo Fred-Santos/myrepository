{
 "cells": [
  {
   "cell_type": "markdown",
   "id": "614df8fd",
   "metadata": {},
   "source": [
    "# [Python]Desafio proposto pela DSA utilizando Pandas e Numpy.\n",
    "## Missão: Analisar o Comportamento de Compra de Consumidores."
   ]
  },
  {
   "cell_type": "markdown",
   "id": "e2acdc70",
   "metadata": {},
   "source": [
    "### O arquivo  utilizado como dataset é o'dados_compra.json' que apresenta as colunas Login, Idade e Sexo referentes ao CLIENTE, e as colunas Item ID, Nome do Item e Valor referentes ao PRODUTO.\n",
    "### As informações retiradas do banco de dados, segue a orientação do desafio proposto. Existem diversas formas de organização e apresentações possíveis. Para seguir a proposta dos desafios, as informações obtidas com o modelo segue o padrão solicitado pelo desafio.\n",
    "\n",
    "### As informações solicitadas no desafio seguem abaixo:\n",
    "#### **Contagem de Consumidores**\n",
    "\n",
    "* Número total de consumidores\n",
    "\n",
    "\n",
    "**Análise Geral de Compras**\n",
    "\n",
    "* Número de itens exclusivos\n",
    "* Preço médio de compra\n",
    "* Número total de compras\n",
    "* Rendimento total\n",
    "\n",
    "\n",
    "**Informações Demográficas Por Gênero**\n",
    "\n",
    "* Porcentagem e contagem de compradores masculinos\n",
    "* Porcentagem e contagem de compradores do sexo feminino\n",
    "* Porcentagem e contagem de outros / não divulgados\n",
    "\n",
    "\n",
    "**Análise de Compras Por Gênero**\n",
    "\n",
    "* Número de compras\n",
    "* Preço médio de compra\n",
    "* Valor Total de Compra\n",
    "* Compras for faixa etária\n",
    "\n",
    "\n",
    "**Identifique os 5 principais compradores pelo valor total de compra e, em seguida, liste (em uma tabela):**\n",
    "\n",
    "* Login\n",
    "* Número de compras\n",
    "* Preço médio de compra\n",
    "* Valor Total de Compra\n",
    "\n",
    "\n",
    "**Identifique os 5 itens mais populares por contagem de compras e, em seguida, liste (em uma tabela):**\n",
    "\n",
    "* ID do item\n",
    "* Nome do item\n",
    "* Número de compras\n",
    "* Preço do item\n",
    "* Valor Total de Compra\n",
    "* Itens mais lucrativos\n",
    "\n",
    "\n",
    "**Identifique os 5 itens mais lucrativos pelo valor total de compra e, em seguida, liste (em uma tabela):**\n",
    "\n",
    "* ID do item\n",
    "* Nome do item\n",
    "* Número de compras\n",
    "* Preço do item\n",
    "* Valor Total de Compra"
   ]
  },
  {
   "cell_type": "markdown",
   "id": "4155afc5",
   "metadata": {},
   "source": [
    "## Banco de Dados"
   ]
  },
  {
   "cell_type": "code",
   "execution_count": 98,
   "id": "34b50e2a",
   "metadata": {},
   "outputs": [],
   "source": [
    "import pandas as pd"
   ]
  },
  {
   "cell_type": "markdown",
   "id": "c617c1f4",
   "metadata": {},
   "source": [
    "## Importando o bando de dados"
   ]
  },
  {
   "cell_type": "code",
   "execution_count": 99,
   "id": "f4c6d713",
   "metadata": {},
   "outputs": [
    {
     "data": {
      "text/html": [
       "<div>\n",
       "<style scoped>\n",
       "    .dataframe tbody tr th:only-of-type {\n",
       "        vertical-align: middle;\n",
       "    }\n",
       "\n",
       "    .dataframe tbody tr th {\n",
       "        vertical-align: top;\n",
       "    }\n",
       "\n",
       "    .dataframe thead th {\n",
       "        text-align: right;\n",
       "    }\n",
       "</style>\n",
       "<table border=\"1\" class=\"dataframe\">\n",
       "  <thead>\n",
       "    <tr style=\"text-align: right;\">\n",
       "      <th></th>\n",
       "      <th>Login</th>\n",
       "      <th>Idade</th>\n",
       "      <th>Sexo</th>\n",
       "      <th>Item ID</th>\n",
       "      <th>Nome do Item</th>\n",
       "      <th>Valor</th>\n",
       "    </tr>\n",
       "  </thead>\n",
       "  <tbody>\n",
       "    <tr>\n",
       "      <th>0</th>\n",
       "      <td>Aelalis34</td>\n",
       "      <td>38</td>\n",
       "      <td>Masculino</td>\n",
       "      <td>165</td>\n",
       "      <td>Bone Crushing Silver Skewer</td>\n",
       "      <td>3.37</td>\n",
       "    </tr>\n",
       "    <tr>\n",
       "      <th>1</th>\n",
       "      <td>Eolo46</td>\n",
       "      <td>21</td>\n",
       "      <td>Masculino</td>\n",
       "      <td>119</td>\n",
       "      <td>Stormbringer, Dark Blade of Ending Misery</td>\n",
       "      <td>2.32</td>\n",
       "    </tr>\n",
       "    <tr>\n",
       "      <th>2</th>\n",
       "      <td>Assastnya25</td>\n",
       "      <td>34</td>\n",
       "      <td>Masculino</td>\n",
       "      <td>174</td>\n",
       "      <td>Primitive Blade</td>\n",
       "      <td>2.46</td>\n",
       "    </tr>\n",
       "    <tr>\n",
       "      <th>3</th>\n",
       "      <td>Pheusrical25</td>\n",
       "      <td>21</td>\n",
       "      <td>Masculino</td>\n",
       "      <td>92</td>\n",
       "      <td>Final Critic</td>\n",
       "      <td>1.36</td>\n",
       "    </tr>\n",
       "    <tr>\n",
       "      <th>4</th>\n",
       "      <td>Aela59</td>\n",
       "      <td>23</td>\n",
       "      <td>Masculino</td>\n",
       "      <td>63</td>\n",
       "      <td>Stormfury Mace</td>\n",
       "      <td>1.27</td>\n",
       "    </tr>\n",
       "    <tr>\n",
       "      <th>...</th>\n",
       "      <td>...</td>\n",
       "      <td>...</td>\n",
       "      <td>...</td>\n",
       "      <td>...</td>\n",
       "      <td>...</td>\n",
       "      <td>...</td>\n",
       "    </tr>\n",
       "    <tr>\n",
       "      <th>775</th>\n",
       "      <td>Eural50</td>\n",
       "      <td>22</td>\n",
       "      <td>Masculino</td>\n",
       "      <td>98</td>\n",
       "      <td>Deadline, Voice Of Subtlety</td>\n",
       "      <td>3.62</td>\n",
       "    </tr>\n",
       "    <tr>\n",
       "      <th>776</th>\n",
       "      <td>Lirtossa78</td>\n",
       "      <td>14</td>\n",
       "      <td>Masculino</td>\n",
       "      <td>104</td>\n",
       "      <td>Gladiator's Glaive</td>\n",
       "      <td>1.36</td>\n",
       "    </tr>\n",
       "    <tr>\n",
       "      <th>777</th>\n",
       "      <td>Tillyrin30</td>\n",
       "      <td>20</td>\n",
       "      <td>Masculino</td>\n",
       "      <td>117</td>\n",
       "      <td>Heartstriker, Legacy of the Light</td>\n",
       "      <td>4.15</td>\n",
       "    </tr>\n",
       "    <tr>\n",
       "      <th>778</th>\n",
       "      <td>Quelaton80</td>\n",
       "      <td>20</td>\n",
       "      <td>Masculino</td>\n",
       "      <td>75</td>\n",
       "      <td>Brutality Ivory Warmace</td>\n",
       "      <td>1.72</td>\n",
       "    </tr>\n",
       "    <tr>\n",
       "      <th>779</th>\n",
       "      <td>Alim85</td>\n",
       "      <td>23</td>\n",
       "      <td>Feminino</td>\n",
       "      <td>107</td>\n",
       "      <td>Splitter, Foe Of Subtlety</td>\n",
       "      <td>3.61</td>\n",
       "    </tr>\n",
       "  </tbody>\n",
       "</table>\n",
       "<p>780 rows × 6 columns</p>\n",
       "</div>"
      ],
      "text/plain": [
       "            Login  Idade       Sexo  Item ID  \\\n",
       "0       Aelalis34     38  Masculino      165   \n",
       "1          Eolo46     21  Masculino      119   \n",
       "2     Assastnya25     34  Masculino      174   \n",
       "3    Pheusrical25     21  Masculino       92   \n",
       "4          Aela59     23  Masculino       63   \n",
       "..            ...    ...        ...      ...   \n",
       "775       Eural50     22  Masculino       98   \n",
       "776    Lirtossa78     14  Masculino      104   \n",
       "777    Tillyrin30     20  Masculino      117   \n",
       "778    Quelaton80     20  Masculino       75   \n",
       "779        Alim85     23   Feminino      107   \n",
       "\n",
       "                                  Nome do Item  Valor  \n",
       "0                  Bone Crushing Silver Skewer   3.37  \n",
       "1    Stormbringer, Dark Blade of Ending Misery   2.32  \n",
       "2                              Primitive Blade   2.46  \n",
       "3                                 Final Critic   1.36  \n",
       "4                               Stormfury Mace   1.27  \n",
       "..                                         ...    ...  \n",
       "775                Deadline, Voice Of Subtlety   3.62  \n",
       "776                         Gladiator's Glaive   1.36  \n",
       "777          Heartstriker, Legacy of the Light   4.15  \n",
       "778                    Brutality Ivory Warmace   1.72  \n",
       "779                  Splitter, Foe Of Subtlety   3.61  \n",
       "\n",
       "[780 rows x 6 columns]"
      ]
     },
     "execution_count": 99,
     "metadata": {},
     "output_type": "execute_result"
    }
   ],
   "source": [
    "dataset = pd.read_json('dados_compras.json')\n",
    "dataset"
   ]
  },
  {
   "cell_type": "markdown",
   "id": "73c89a41",
   "metadata": {},
   "source": [
    "## Análise Descritiva"
   ]
  },
  {
   "cell_type": "markdown",
   "id": "f8046a17",
   "metadata": {},
   "source": [
    "### Total de consumidores"
   ]
  },
  {
   "cell_type": "code",
   "execution_count": 100,
   "id": "5f75eb2c",
   "metadata": {},
   "outputs": [
    {
     "name": "stdout",
     "output_type": "stream",
     "text": [
      "Total: 573 consumidores\n"
     ]
    }
   ],
   "source": [
    "total_consumidores = len(dataset['Login'].unique())\n",
    "print(f'Total: {total_consumidores} consumidores')"
   ]
  },
  {
   "cell_type": "markdown",
   "id": "bf912866",
   "metadata": {},
   "source": [
    "### Análise geral de compras"
   ]
  },
  {
   "cell_type": "code",
   "execution_count": 101,
   "id": "358648e5",
   "metadata": {},
   "outputs": [
    {
     "name": "stdout",
     "output_type": "stream",
     "text": [
      "Total: 183 itens exclusivos\n"
     ]
    }
   ],
   "source": [
    "variedade_itens = len(dataset['Item ID'].unique())\n",
    "print(f'Total: {variedade_itens} itens exclusivos')"
   ]
  },
  {
   "cell_type": "code",
   "execution_count": 102,
   "id": "8a671e10",
   "metadata": {},
   "outputs": [
    {
     "name": "stdout",
     "output_type": "stream",
     "text": [
      "Preço médio de compra: R$2.93\n"
     ]
    }
   ],
   "source": [
    "preço_medio_compra = (dataset['Valor'].sum() / len(dataset)).round(2)\n",
    "print(f'Preço médio de compra: R${preço_medio_compra}')"
   ]
  },
  {
   "cell_type": "code",
   "execution_count": 103,
   "id": "ee8038bf",
   "metadata": {},
   "outputs": [
    {
     "name": "stdout",
     "output_type": "stream",
     "text": [
      "Quantidade total de compras: 780 compras\n"
     ]
    }
   ],
   "source": [
    "numero_total_compras = len(dataset)\n",
    "print(f'Quantidade total de compras: {numero_total_compras} compras')"
   ]
  },
  {
   "cell_type": "code",
   "execution_count": 104,
   "id": "6089dc44",
   "metadata": {},
   "outputs": [
    {
     "name": "stdout",
     "output_type": "stream",
     "text": [
      "Rendimento total: R$2286.33\n"
     ]
    }
   ],
   "source": [
    "rendimento_total = dataset['Valor'].sum()\n",
    "print(f'Rendimento total: R${rendimento_total}')"
   ]
  },
  {
   "cell_type": "markdown",
   "id": "a60a99a3",
   "metadata": {},
   "source": [
    "### Informações demográficas por gênero"
   ]
  },
  {
   "cell_type": "code",
   "execution_count": 105,
   "id": "dc5adc8e",
   "metadata": {},
   "outputs": [
    {
     "data": {
      "text/plain": [
       "['Masculino', 'Feminino', 'Outro / Não Divulgado']"
      ]
     },
     "execution_count": 105,
     "metadata": {},
     "output_type": "execute_result"
    }
   ],
   "source": [
    "list(dataset.Sexo.unique())"
   ]
  },
  {
   "cell_type": "code",
   "execution_count": 106,
   "id": "3e6b03e8",
   "metadata": {},
   "outputs": [
    {
     "data": {
      "text/plain": [
       "465"
      ]
     },
     "execution_count": 106,
     "metadata": {},
     "output_type": "execute_result"
    }
   ],
   "source": [
    "total_masc = len(dataset.query(\"Sexo == 'Masculino'\")['Login'].unique())\n",
    "total_masc"
   ]
  },
  {
   "cell_type": "code",
   "execution_count": 107,
   "id": "cfc2da14",
   "metadata": {},
   "outputs": [
    {
     "data": {
      "text/plain": [
       "100"
      ]
     },
     "execution_count": 107,
     "metadata": {},
     "output_type": "execute_result"
    }
   ],
   "source": [
    "total_fem = len(dataset.query(\"Sexo == 'Feminino'\")['Login'].unique())\n",
    "total_fem"
   ]
  },
  {
   "cell_type": "code",
   "execution_count": 108,
   "id": "fad9f1cc",
   "metadata": {},
   "outputs": [
    {
     "data": {
      "text/plain": [
       "8"
      ]
     },
     "execution_count": 108,
     "metadata": {},
     "output_type": "execute_result"
    }
   ],
   "source": [
    "total_outro = len(dataset.query(\"Sexo == 'Outro / Não Divulgado'\")['Login'].unique())\n",
    "total_outro"
   ]
  },
  {
   "cell_type": "code",
   "execution_count": 109,
   "id": "5b1d1c49",
   "metadata": {},
   "outputs": [
    {
     "name": "stdout",
     "output_type": "stream",
     "text": [
      "Total de consumidores do sexo masculino: 465 dos consumidores\n",
      "Porcentagem de consumidores do sexo masculino: 81.15% dos consumidores\n"
     ]
    }
   ],
   "source": [
    "porcentagem_masc = round((total_masc*100 / total_consumidores), 2)\n",
    "print(f'Total de consumidores do sexo masculino: {total_masc} dos consumidores'\n",
    "      f'\\nPorcentagem de consumidores do sexo masculino: {porcentagem_masc}% dos consumidores')"
   ]
  },
  {
   "cell_type": "code",
   "execution_count": 110,
   "id": "4b8df002",
   "metadata": {},
   "outputs": [
    {
     "name": "stdout",
     "output_type": "stream",
     "text": [
      "Total de consumidores do sexo feminino: 100 dos consumidores\n",
      "Porcentagem de consumidores do sexo feminino: 17.45% dos consumidores\n"
     ]
    }
   ],
   "source": [
    "porcentagem_fem = round((total_fem*100 / total_consumidores), 2)\n",
    "print(f'Total de consumidores do sexo feminino: {total_fem} dos consumidores'\n",
    "      f'\\nPorcentagem de consumidores do sexo feminino: {porcentagem_fem}% dos consumidores')"
   ]
  },
  {
   "cell_type": "code",
   "execution_count": 111,
   "id": "a3687aca",
   "metadata": {},
   "outputs": [
    {
     "name": "stdout",
     "output_type": "stream",
     "text": [
      "Total de consumidores do sexo Outro / Não Divulgado: 8 dos consumidores\n",
      "Porcentagem de consumidores do sexo Outro / Não Divulgado: 1.4% dos consumidores\n"
     ]
    }
   ],
   "source": [
    "porcentagem_outro = round((total_outro*100 / total_consumidores), 2)\n",
    "print(f'Total de consumidores do sexo Outro / Não Divulgado: {total_outro} dos consumidores'\n",
    "      f'\\nPorcentagem de consumidores do sexo Outro / Não Divulgado: {porcentagem_outro}% dos consumidores')"
   ]
  },
  {
   "cell_type": "markdown",
   "id": "e44ed941",
   "metadata": {},
   "source": [
    "### Análise de compras por gênero"
   ]
  },
  {
   "cell_type": "markdown",
   "id": "7f41e860",
   "metadata": {},
   "source": [
    "#### Total de compras"
   ]
  },
  {
   "cell_type": "code",
   "execution_count": 112,
   "id": "cb4e91a0",
   "metadata": {},
   "outputs": [
    {
     "name": "stdout",
     "output_type": "stream",
     "text": [
      "Total de compras do sexo masculino: 633 itens\n"
     ]
    }
   ],
   "source": [
    "total_compras_masc = len(dataset.query(\"Sexo == 'Masculino'\"))\n",
    "print(f'Total de compras do sexo masculino: {total_compras_masc} itens')"
   ]
  },
  {
   "cell_type": "code",
   "execution_count": 113,
   "id": "2fd7e53f",
   "metadata": {},
   "outputs": [
    {
     "name": "stdout",
     "output_type": "stream",
     "text": [
      "Total de compras do sexo feminino: 136 itens\n"
     ]
    }
   ],
   "source": [
    "total_compras_fem = len(dataset.query(\"Sexo == 'Feminino'\"))\n",
    "print(f'Total de compras do sexo feminino: {total_compras_fem} itens')"
   ]
  },
  {
   "cell_type": "code",
   "execution_count": 114,
   "id": "39f4accd",
   "metadata": {},
   "outputs": [
    {
     "name": "stdout",
     "output_type": "stream",
     "text": [
      "Total de compras do sexo Outro / Não Divulgado: 11 itens\n"
     ]
    }
   ],
   "source": [
    "total_compras_outros = len(dataset.query(\"Sexo == 'Outro / Não Divulgado'\"))\n",
    "print(f'Total de compras do sexo Outro / Não Divulgado: {total_compras_outros} itens')"
   ]
  },
  {
   "cell_type": "markdown",
   "id": "db3b166e",
   "metadata": {},
   "source": [
    "#### Preço médio de compras"
   ]
  },
  {
   "cell_type": "code",
   "execution_count": 115,
   "id": "944a11e1",
   "metadata": {},
   "outputs": [
    {
     "name": "stdout",
     "output_type": "stream",
     "text": [
      "Preço médio de compra do sexo masculino: R$2.95\n"
     ]
    }
   ],
   "source": [
    "preco_medio_masc = round(((dataset.query(\"Sexo == 'Masculino'\"))['Valor'].sum()) / total_compras_masc, 2)\n",
    "print(f'Preço médio de compra do sexo masculino: R${preco_medio_masc}')"
   ]
  },
  {
   "cell_type": "code",
   "execution_count": 116,
   "id": "1d8cb51f",
   "metadata": {},
   "outputs": [
    {
     "name": "stdout",
     "output_type": "stream",
     "text": [
      "Preço médio de compra do sexo feminino: R$2.82\n"
     ]
    }
   ],
   "source": [
    "preco_medio_fem = round(((dataset.query(\"Sexo == 'Feminino'\"))['Valor'].sum()) / total_compras_fem, 2)\n",
    "print(f'Preço médio de compra do sexo feminino: R${preco_medio_fem}')"
   ]
  },
  {
   "cell_type": "code",
   "execution_count": 117,
   "id": "08813e80",
   "metadata": {},
   "outputs": [
    {
     "name": "stdout",
     "output_type": "stream",
     "text": [
      "Preço médio de compra do sexo Outro / Não Divulgado: R$3.25\n"
     ]
    }
   ],
   "source": [
    "preco_medio_outros = round(((dataset.query(\"Sexo == 'Outro / Não Divulgado'\"))['Valor'].sum()) / total_compras_outros, 2)\n",
    "print(f'Preço médio de compra do sexo Outro / Não Divulgado: R${preco_medio_outros}')"
   ]
  },
  {
   "cell_type": "markdown",
   "id": "ae0e22e5",
   "metadata": {},
   "source": [
    "#### Valor total de compras"
   ]
  },
  {
   "cell_type": "code",
   "execution_count": 118,
   "id": "99329d12",
   "metadata": {},
   "outputs": [
    {
     "name": "stdout",
     "output_type": "stream",
     "text": [
      "Valor total de compra do sexo masculino: R$1867.68\n"
     ]
    }
   ],
   "source": [
    "total_compra_masc = dataset.query(\"Sexo == 'Masculino'\")['Valor'].sum()\n",
    "print(f'Valor total de compra do sexo masculino: R${total_compra_masc}')"
   ]
  },
  {
   "cell_type": "code",
   "execution_count": 119,
   "id": "265307d5",
   "metadata": {},
   "outputs": [
    {
     "name": "stdout",
     "output_type": "stream",
     "text": [
      "Valor total de compra do sexo feminino: R$382.91\n"
     ]
    }
   ],
   "source": [
    "total_compra_fem = round(dataset.query(\"Sexo == 'Feminino'\")['Valor'].sum(), 2)\n",
    "print(f'Valor total de compra do sexo feminino: R${total_compra_fem}')"
   ]
  },
  {
   "cell_type": "code",
   "execution_count": 120,
   "id": "462ce1e7",
   "metadata": {},
   "outputs": [
    {
     "name": "stdout",
     "output_type": "stream",
     "text": [
      "Valor total de compra do sexo Outro / Não Divulgado: R$35.74\n"
     ]
    }
   ],
   "source": [
    "total_compra_outros = round(dataset.query(\"Sexo == 'Outro / Não Divulgado'\")['Valor'].sum(), 2)\n",
    "print(f'Valor total de compra do sexo Outro / Não Divulgado: R${total_compra_outros}')"
   ]
  },
  {
   "cell_type": "markdown",
   "id": "f1c3fe6b",
   "metadata": {},
   "source": [
    "#### Total de compras por faixa etária"
   ]
  },
  {
   "cell_type": "code",
   "execution_count": 121,
   "id": "078749f8",
   "metadata": {},
   "outputs": [
    {
     "data": {
      "text/plain": [
       "(7, 45)"
      ]
     },
     "execution_count": 121,
     "metadata": {},
     "output_type": "execute_result"
    }
   ],
   "source": [
    "dataset['Idade'].min(), dataset['Idade'].max()\n"
   ]
  },
  {
   "cell_type": "code",
   "execution_count": 122,
   "id": "08ea540c",
   "metadata": {},
   "outputs": [
    {
     "data": {
      "text/plain": [
       "38"
      ]
     },
     "execution_count": 122,
     "metadata": {},
     "output_type": "execute_result"
    }
   ],
   "source": [
    "amplitude_total = dataset.Idade.max() - dataset.Idade.min()\n",
    "amplitude_total"
   ]
  },
  {
   "cell_type": "code",
   "execution_count": 123,
   "id": "2602c9d0",
   "metadata": {},
   "outputs": [],
   "source": [
    "compras_masc = dataset.query(\"Sexo == 'Masculino'\")['Idade']\n",
    "compras_fem = dataset.query(\"Sexo == 'Feminino'\")['Idade']\n",
    "compras_outros = dataset.query(\"Sexo == 'Outro / Não Divulgado'\")['Idade']"
   ]
  },
  {
   "cell_type": "code",
   "execution_count": 124,
   "id": "c04c50f8",
   "metadata": {},
   "outputs": [],
   "source": [
    "faixa_7_a_14 = 0\n",
    "faixa_15_a_22 = 0\n",
    "faixa_23_a_30 = 0\n",
    "faixa_31_a_38 = 0\n",
    "faixa_39_a_45 = 0"
   ]
  },
  {
   "cell_type": "code",
   "execution_count": 125,
   "id": "c6ee49dd",
   "metadata": {},
   "outputs": [],
   "source": [
    "def faixa_etaria(dados):\n",
    "    global faixa_7_a_14\n",
    "    global faixa_15_a_22\n",
    "    global faixa_23_a_30\n",
    "    global faixa_31_a_38\n",
    "    global faixa_39_a_45\n",
    "    faixa_7_a_14 = 0\n",
    "    faixa_15_a_22 = 0\n",
    "    faixa_23_a_30 = 0\n",
    "    faixa_31_a_38 = 0\n",
    "    faixa_39_a_45 = 0\n",
    "    for i in dados:\n",
    "        if i < 15:\n",
    "            faixa_7_a_14 = faixa_7_a_14 + 1\n",
    "        if 15 <= i < 23:\n",
    "            faixa_15_a_22 = faixa_15_a_22 + 1\n",
    "        if 23 <= i < 31:\n",
    "            faixa_23_a_30 = faixa_23_a_30 + 1\n",
    "        if 31 <= i < 39:\n",
    "            faixa_31_a_38 = faixa_31_a_38 + 1\n",
    "        if 39 <= i:\n",
    "            faixa_39_a_45 = faixa_39_a_45 + 1"
   ]
  },
  {
   "cell_type": "code",
   "execution_count": 126,
   "id": "c89536ec",
   "metadata": {},
   "outputs": [
    {
     "name": "stdout",
     "output_type": "stream",
     "text": [
      " Nº de compras de clientes do sexo masculino na faixa de 7 a 14 anos de idade: 47\n",
      " Nº de compras de clientes do sexo masculino na faixa de 15 a 22 anos de idade: 286\n",
      " Nº de compras de clientes do sexo masculino na faixa de 23 a 30 anos de idade: 218\n",
      " Nº de compras de clientes do sexo masculino na faixa de 31 a 38 anos de idade: 67\n",
      " Nº de compras de clientes do sexo masculino na faixa de 39 anos de idade ou mais: 15\n",
      "\n",
      "\n",
      " Nº de compras de clientes do sexo feminino na faixa de 7 a 14 anos de idade: 15\n",
      " Nº de compras de clientes do sexo feminino na faixa de 15 a 22 anos de idade: 54\n",
      " Nº de compras de clientes do sexo feminino na faixa de 23 a 30 anos de idade: 49\n",
      " Nº de compras de clientes do sexo feminino na faixa de 31 a 38 anos de idade: 11\n",
      " Nº de compras de clientes do sexo feminino na faixa de 39 anos de idade ou mais: 7\n",
      "\n",
      "\n",
      " Nº de compras de clientes do sexo Outro / Não Divulgado na faixa de 7 a 14 anos de idade: 1\n",
      " Nº de compras de clientes do sexo Outro / Não Divulgado na faixa de 15 a 22 anos de idade: 2\n",
      " Nº de compras de clientes do sexo Outro / Não Divulgado na faixa de 23 a 30 anos de idade: 3\n",
      " Nº de compras de clientes do sexo Outro / Não Divulgado na faixa de 31 a 38 anos de idade: 5\n",
      " Nº de compras de clientes do sexo Outro / Não Divulgado na faixa de 39 anos de idade ou mais: 0\n",
      "\n",
      "\n"
     ]
    }
   ],
   "source": [
    "faixa_etaria(compras_masc)\n",
    "print(f' Nº de compras de clientes do sexo masculino na faixa de 7 a 14 anos de idade: {faixa_7_a_14}\\n',\n",
    "      f'Nº de compras de clientes do sexo masculino na faixa de 15 a 22 anos de idade: {faixa_15_a_22}\\n',\n",
    "      f'Nº de compras de clientes do sexo masculino na faixa de 23 a 30 anos de idade: {faixa_23_a_30}\\n',\n",
    "      f'Nº de compras de clientes do sexo masculino na faixa de 31 a 38 anos de idade: {faixa_31_a_38}\\n',\n",
    "      f'Nº de compras de clientes do sexo masculino na faixa de 39 anos de idade ou mais: {faixa_39_a_45}\\n\\n')\n",
    "faixa_etaria(compras_fem)\n",
    "print(f' Nº de compras de clientes do sexo feminino na faixa de 7 a 14 anos de idade: {faixa_7_a_14}\\n',\n",
    "      f'Nº de compras de clientes do sexo feminino na faixa de 15 a 22 anos de idade: {faixa_15_a_22}\\n',\n",
    "      f'Nº de compras de clientes do sexo feminino na faixa de 23 a 30 anos de idade: {faixa_23_a_30}\\n',\n",
    "      f'Nº de compras de clientes do sexo feminino na faixa de 31 a 38 anos de idade: {faixa_31_a_38}\\n',\n",
    "      f'Nº de compras de clientes do sexo feminino na faixa de 39 anos de idade ou mais: {faixa_39_a_45}\\n\\n')\n",
    "faixa_etaria(compras_outros)\n",
    "print(f' Nº de compras de clientes do sexo Outro / Não Divulgado na faixa de 7 a 14 anos de idade: {faixa_7_a_14}\\n',\n",
    "      f'Nº de compras de clientes do sexo Outro / Não Divulgado na faixa de 15 a 22 anos de idade: {faixa_15_a_22}\\n',\n",
    "      f'Nº de compras de clientes do sexo Outro / Não Divulgado na faixa de 23 a 30 anos de idade: {faixa_23_a_30}\\n',\n",
    "      f'Nº de compras de clientes do sexo Outro / Não Divulgado na faixa de 31 a 38 anos de idade: {faixa_31_a_38}\\n',\n",
    "      f'Nº de compras de clientes do sexo Outro / Não Divulgado na faixa de 39 anos de idade ou mais: {faixa_39_a_45}\\n\\n')"
   ]
  },
  {
   "cell_type": "markdown",
   "id": "efa916e6",
   "metadata": {},
   "source": [
    "### Maiores compradores pelo valor total de compra"
   ]
  },
  {
   "cell_type": "code",
   "execution_count": 127,
   "id": "7ac60781",
   "metadata": {},
   "outputs": [
    {
     "data": {
      "text/html": [
       "<div>\n",
       "<style scoped>\n",
       "    .dataframe tbody tr th:only-of-type {\n",
       "        vertical-align: middle;\n",
       "    }\n",
       "\n",
       "    .dataframe tbody tr th {\n",
       "        vertical-align: top;\n",
       "    }\n",
       "\n",
       "    .dataframe thead th {\n",
       "        text-align: right;\n",
       "    }\n",
       "</style>\n",
       "<table border=\"1\" class=\"dataframe\">\n",
       "  <thead>\n",
       "    <tr style=\"text-align: right;\">\n",
       "      <th></th>\n",
       "      <th>Login</th>\n",
       "      <th>Idade</th>\n",
       "      <th>Sexo</th>\n",
       "      <th>Item ID</th>\n",
       "      <th>Nome do Item</th>\n",
       "      <th>Valor</th>\n",
       "    </tr>\n",
       "  </thead>\n",
       "  <tbody>\n",
       "    <tr>\n",
       "      <th>0</th>\n",
       "      <td>Aelalis34</td>\n",
       "      <td>38</td>\n",
       "      <td>Masculino</td>\n",
       "      <td>165</td>\n",
       "      <td>Bone Crushing Silver Skewer</td>\n",
       "      <td>3.37</td>\n",
       "    </tr>\n",
       "    <tr>\n",
       "      <th>1</th>\n",
       "      <td>Eolo46</td>\n",
       "      <td>21</td>\n",
       "      <td>Masculino</td>\n",
       "      <td>119</td>\n",
       "      <td>Stormbringer, Dark Blade of Ending Misery</td>\n",
       "      <td>2.32</td>\n",
       "    </tr>\n",
       "    <tr>\n",
       "      <th>2</th>\n",
       "      <td>Assastnya25</td>\n",
       "      <td>34</td>\n",
       "      <td>Masculino</td>\n",
       "      <td>174</td>\n",
       "      <td>Primitive Blade</td>\n",
       "      <td>2.46</td>\n",
       "    </tr>\n",
       "    <tr>\n",
       "      <th>3</th>\n",
       "      <td>Pheusrical25</td>\n",
       "      <td>21</td>\n",
       "      <td>Masculino</td>\n",
       "      <td>92</td>\n",
       "      <td>Final Critic</td>\n",
       "      <td>1.36</td>\n",
       "    </tr>\n",
       "    <tr>\n",
       "      <th>4</th>\n",
       "      <td>Aela59</td>\n",
       "      <td>23</td>\n",
       "      <td>Masculino</td>\n",
       "      <td>63</td>\n",
       "      <td>Stormfury Mace</td>\n",
       "      <td>1.27</td>\n",
       "    </tr>\n",
       "  </tbody>\n",
       "</table>\n",
       "</div>"
      ],
      "text/plain": [
       "          Login  Idade       Sexo  Item ID  \\\n",
       "0     Aelalis34     38  Masculino      165   \n",
       "1        Eolo46     21  Masculino      119   \n",
       "2   Assastnya25     34  Masculino      174   \n",
       "3  Pheusrical25     21  Masculino       92   \n",
       "4        Aela59     23  Masculino       63   \n",
       "\n",
       "                                Nome do Item  Valor  \n",
       "0                Bone Crushing Silver Skewer   3.37  \n",
       "1  Stormbringer, Dark Blade of Ending Misery   2.32  \n",
       "2                            Primitive Blade   2.46  \n",
       "3                               Final Critic   1.36  \n",
       "4                             Stormfury Mace   1.27  "
      ]
     },
     "execution_count": 127,
     "metadata": {},
     "output_type": "execute_result"
    }
   ],
   "source": [
    "dataset.head()"
   ]
  },
  {
   "cell_type": "code",
   "execution_count": 128,
   "id": "d22625e1",
   "metadata": {},
   "outputs": [],
   "source": [
    "total = pd.DataFrame(dataset.groupby('Login')['Valor'].sum())\n",
    "total.rename(columns = {'Valor': 'Total'}, inplace = True)"
   ]
  },
  {
   "cell_type": "code",
   "execution_count": 129,
   "id": "6282f5f7",
   "metadata": {},
   "outputs": [],
   "source": [
    "quantidade = dataset['Login'].value_counts()"
   ]
  },
  {
   "cell_type": "code",
   "execution_count": 130,
   "id": "07e055d6",
   "metadata": {},
   "outputs": [],
   "source": [
    "media = round(dataset.groupby('Login')['Valor'].mean(), 2)"
   ]
  },
  {
   "cell_type": "code",
   "execution_count": 131,
   "id": "74dd0f5b",
   "metadata": {},
   "outputs": [
    {
     "data": {
      "text/html": [
       "<div>\n",
       "<style scoped>\n",
       "    .dataframe tbody tr th:only-of-type {\n",
       "        vertical-align: middle;\n",
       "    }\n",
       "\n",
       "    .dataframe tbody tr th {\n",
       "        vertical-align: top;\n",
       "    }\n",
       "\n",
       "    .dataframe thead th {\n",
       "        text-align: right;\n",
       "    }\n",
       "</style>\n",
       "<table border=\"1\" class=\"dataframe\">\n",
       "  <thead>\n",
       "    <tr style=\"text-align: right;\">\n",
       "      <th></th>\n",
       "      <th>Quantidade</th>\n",
       "      <th>Média</th>\n",
       "      <th>Total</th>\n",
       "    </tr>\n",
       "    <tr>\n",
       "      <th>Login</th>\n",
       "      <th></th>\n",
       "      <th></th>\n",
       "      <th></th>\n",
       "    </tr>\n",
       "  </thead>\n",
       "  <tbody>\n",
       "    <tr>\n",
       "      <th>Undirrala66</th>\n",
       "      <td>5</td>\n",
       "      <td>3.41</td>\n",
       "      <td>17.06</td>\n",
       "    </tr>\n",
       "    <tr>\n",
       "      <th>Saedue76</th>\n",
       "      <td>4</td>\n",
       "      <td>3.39</td>\n",
       "      <td>13.56</td>\n",
       "    </tr>\n",
       "    <tr>\n",
       "      <th>Mindimnya67</th>\n",
       "      <td>4</td>\n",
       "      <td>3.18</td>\n",
       "      <td>12.74</td>\n",
       "    </tr>\n",
       "    <tr>\n",
       "      <th>Haellysu29</th>\n",
       "      <td>3</td>\n",
       "      <td>4.24</td>\n",
       "      <td>12.73</td>\n",
       "    </tr>\n",
       "    <tr>\n",
       "      <th>Eoda93</th>\n",
       "      <td>3</td>\n",
       "      <td>3.86</td>\n",
       "      <td>11.58</td>\n",
       "    </tr>\n",
       "  </tbody>\n",
       "</table>\n",
       "</div>"
      ],
      "text/plain": [
       "             Quantidade  Média  Total\n",
       "Login                                \n",
       "Undirrala66           5   3.41  17.06\n",
       "Saedue76              4   3.39  13.56\n",
       "Mindimnya67           4   3.18  12.74\n",
       "Haellysu29            3   4.24  12.73\n",
       "Eoda93                3   3.86  11.58"
      ]
     },
     "execution_count": 131,
     "metadata": {},
     "output_type": "execute_result"
    }
   ],
   "source": [
    "maiores_compradores = pd.concat([quantidade, media, total], axis = 1)\n",
    "maiores_compradores.index.name = 'Login'\n",
    "maiores_compradores.rename(columns = {'Login': 'Quantidade', 'Valor': 'Média'}, inplace = True)\n",
    "maiores_compradores.sort_values(by = 'Total', ascending = False).head()"
   ]
  },
  {
   "cell_type": "markdown",
   "id": "a046385e",
   "metadata": {},
   "source": [
    "### Itens mais populares"
   ]
  },
  {
   "cell_type": "code",
   "execution_count": 132,
   "id": "91ebdaa6",
   "metadata": {},
   "outputs": [],
   "source": [
    "item_id = dataset.set_index('Item ID')"
   ]
  },
  {
   "cell_type": "code",
   "execution_count": 133,
   "id": "ccfe81b3",
   "metadata": {},
   "outputs": [],
   "source": [
    "quantidade = pd.DataFrame(item_id.groupby('Item ID')['Nome do Item'].value_counts())\n",
    "quantidade.rename(columns = {'Nome do Item': 'Quantidade'}, inplace = True)\n",
    "quantidade = quantidade.reset_index('Nome do Item')"
   ]
  },
  {
   "cell_type": "code",
   "execution_count": 134,
   "id": "6ccc8e74",
   "metadata": {},
   "outputs": [],
   "source": [
    "total = pd.DataFrame(item_id.groupby('Item ID')['Valor'].sum())\n",
    "total.rename(columns = {'Valor': 'Total'}, inplace = True)"
   ]
  },
  {
   "cell_type": "code",
   "execution_count": 135,
   "id": "7cbf8614",
   "metadata": {},
   "outputs": [],
   "source": [
    "tabela = pd.concat([quantidade, total], axis = 1)"
   ]
  },
  {
   "cell_type": "code",
   "execution_count": 136,
   "id": "d39ad78a",
   "metadata": {},
   "outputs": [],
   "source": [
    "tabela['Preço'] = tabela['Total'] / tabela['Quantidade']"
   ]
  },
  {
   "cell_type": "code",
   "execution_count": 137,
   "id": "6ee5d3bf",
   "metadata": {},
   "outputs": [],
   "source": [
    "tabela = tabela.sort_values(by='Quantidade', ascending = False).head(6)"
   ]
  },
  {
   "cell_type": "code",
   "execution_count": 138,
   "id": "c484f348",
   "metadata": {},
   "outputs": [],
   "source": [
    "temp = tabela['Total']"
   ]
  },
  {
   "cell_type": "code",
   "execution_count": 139,
   "id": "afdaa7c4",
   "metadata": {},
   "outputs": [],
   "source": [
    "tabela.drop(columns = ['Total'], inplace = True)"
   ]
  },
  {
   "cell_type": "code",
   "execution_count": 140,
   "id": "a670bec8",
   "metadata": {},
   "outputs": [
    {
     "data": {
      "text/html": [
       "<div>\n",
       "<style scoped>\n",
       "    .dataframe tbody tr th:only-of-type {\n",
       "        vertical-align: middle;\n",
       "    }\n",
       "\n",
       "    .dataframe tbody tr th {\n",
       "        vertical-align: top;\n",
       "    }\n",
       "\n",
       "    .dataframe thead th {\n",
       "        text-align: right;\n",
       "    }\n",
       "</style>\n",
       "<table border=\"1\" class=\"dataframe\">\n",
       "  <thead>\n",
       "    <tr style=\"text-align: right;\">\n",
       "      <th></th>\n",
       "      <th>Nome do Item</th>\n",
       "      <th>Quantidade</th>\n",
       "      <th>Preço</th>\n",
       "      <th>Total</th>\n",
       "    </tr>\n",
       "    <tr>\n",
       "      <th>Item ID</th>\n",
       "      <th></th>\n",
       "      <th></th>\n",
       "      <th></th>\n",
       "      <th></th>\n",
       "    </tr>\n",
       "  </thead>\n",
       "  <tbody>\n",
       "    <tr>\n",
       "      <th>39</th>\n",
       "      <td>Betrayal, Whisper of Grieving Widows</td>\n",
       "      <td>11</td>\n",
       "      <td>2.35</td>\n",
       "      <td>25.85</td>\n",
       "    </tr>\n",
       "    <tr>\n",
       "      <th>84</th>\n",
       "      <td>Arcane Gem</td>\n",
       "      <td>11</td>\n",
       "      <td>2.23</td>\n",
       "      <td>24.53</td>\n",
       "    </tr>\n",
       "    <tr>\n",
       "      <th>31</th>\n",
       "      <td>Trickster</td>\n",
       "      <td>9</td>\n",
       "      <td>2.07</td>\n",
       "      <td>18.63</td>\n",
       "    </tr>\n",
       "    <tr>\n",
       "      <th>175</th>\n",
       "      <td>Woeful Adamantite Claymore</td>\n",
       "      <td>9</td>\n",
       "      <td>1.24</td>\n",
       "      <td>11.16</td>\n",
       "    </tr>\n",
       "    <tr>\n",
       "      <th>13</th>\n",
       "      <td>Serenity</td>\n",
       "      <td>9</td>\n",
       "      <td>1.49</td>\n",
       "      <td>13.41</td>\n",
       "    </tr>\n",
       "    <tr>\n",
       "      <th>34</th>\n",
       "      <td>Retribution Axe</td>\n",
       "      <td>9</td>\n",
       "      <td>4.14</td>\n",
       "      <td>37.26</td>\n",
       "    </tr>\n",
       "  </tbody>\n",
       "</table>\n",
       "</div>"
      ],
      "text/plain": [
       "                                 Nome do Item  Quantidade  Preço  Total\n",
       "Item ID                                                                \n",
       "39       Betrayal, Whisper of Grieving Widows          11   2.35  25.85\n",
       "84                                 Arcane Gem          11   2.23  24.53\n",
       "31                                  Trickster           9   2.07  18.63\n",
       "175                Woeful Adamantite Claymore           9   1.24  11.16\n",
       "13                                   Serenity           9   1.49  13.41\n",
       "34                            Retribution Axe           9   4.14  37.26"
      ]
     },
     "execution_count": 140,
     "metadata": {},
     "output_type": "execute_result"
    }
   ],
   "source": [
    "tabela['Total'] = temp\n",
    "tabela"
   ]
  },
  {
   "cell_type": "markdown",
   "id": "8b29d074",
   "metadata": {},
   "source": [
    "#### Mais lucrativos"
   ]
  },
  {
   "cell_type": "code",
   "execution_count": 141,
   "id": "deb63421",
   "metadata": {},
   "outputs": [
    {
     "data": {
      "text/html": [
       "<div>\n",
       "<style scoped>\n",
       "    .dataframe tbody tr th:only-of-type {\n",
       "        vertical-align: middle;\n",
       "    }\n",
       "\n",
       "    .dataframe tbody tr th {\n",
       "        vertical-align: top;\n",
       "    }\n",
       "\n",
       "    .dataframe thead th {\n",
       "        text-align: right;\n",
       "    }\n",
       "</style>\n",
       "<table border=\"1\" class=\"dataframe\">\n",
       "  <thead>\n",
       "    <tr style=\"text-align: right;\">\n",
       "      <th></th>\n",
       "      <th>Nome do Item</th>\n",
       "      <th>Quantidade</th>\n",
       "      <th>Preço</th>\n",
       "      <th>Total</th>\n",
       "    </tr>\n",
       "    <tr>\n",
       "      <th>Item ID</th>\n",
       "      <th></th>\n",
       "      <th></th>\n",
       "      <th></th>\n",
       "      <th></th>\n",
       "    </tr>\n",
       "  </thead>\n",
       "  <tbody>\n",
       "    <tr>\n",
       "      <th>34</th>\n",
       "      <td>Retribution Axe</td>\n",
       "      <td>9</td>\n",
       "      <td>4.14</td>\n",
       "      <td>37.26</td>\n",
       "    </tr>\n",
       "    <tr>\n",
       "      <th>39</th>\n",
       "      <td>Betrayal, Whisper of Grieving Widows</td>\n",
       "      <td>11</td>\n",
       "      <td>2.35</td>\n",
       "      <td>25.85</td>\n",
       "    </tr>\n",
       "    <tr>\n",
       "      <th>84</th>\n",
       "      <td>Arcane Gem</td>\n",
       "      <td>11</td>\n",
       "      <td>2.23</td>\n",
       "      <td>24.53</td>\n",
       "    </tr>\n",
       "    <tr>\n",
       "      <th>31</th>\n",
       "      <td>Trickster</td>\n",
       "      <td>9</td>\n",
       "      <td>2.07</td>\n",
       "      <td>18.63</td>\n",
       "    </tr>\n",
       "    <tr>\n",
       "      <th>13</th>\n",
       "      <td>Serenity</td>\n",
       "      <td>9</td>\n",
       "      <td>1.49</td>\n",
       "      <td>13.41</td>\n",
       "    </tr>\n",
       "  </tbody>\n",
       "</table>\n",
       "</div>"
      ],
      "text/plain": [
       "                                 Nome do Item  Quantidade  Preço  Total\n",
       "Item ID                                                                \n",
       "34                            Retribution Axe           9   4.14  37.26\n",
       "39       Betrayal, Whisper of Grieving Widows          11   2.35  25.85\n",
       "84                                 Arcane Gem          11   2.23  24.53\n",
       "31                                  Trickster           9   2.07  18.63\n",
       "13                                   Serenity           9   1.49  13.41"
      ]
     },
     "execution_count": 141,
     "metadata": {},
     "output_type": "execute_result"
    }
   ],
   "source": [
    "mais_lucrativos = tabela.sort_values(by = 'Total', ascending = False).head(5)\n",
    "mais_lucrativos"
   ]
  },
  {
   "cell_type": "code",
   "execution_count": null,
   "id": "6f675fca",
   "metadata": {},
   "outputs": [],
   "source": []
  }
 ],
 "metadata": {
  "kernelspec": {
   "display_name": "Python 3 (ipykernel)",
   "language": "python",
   "name": "python3"
  },
  "language_info": {
   "codemirror_mode": {
    "name": "ipython",
    "version": 3
   },
   "file_extension": ".py",
   "mimetype": "text/x-python",
   "name": "python",
   "nbconvert_exporter": "python",
   "pygments_lexer": "ipython3",
   "version": "3.9.12"
  }
 },
 "nbformat": 4,
 "nbformat_minor": 5
}
